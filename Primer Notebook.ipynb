{
 "cells": [
  {
   "cell_type": "markdown",
   "id": "2ae60bb0-86eb-4a3c-a5a9-2fcd1b3c974b",
   "metadata": {},
   "source": [
    "# PRIMER NOTEBOOK"
   ]
  },
  {
   "cell_type": "markdown",
   "id": "61dda339-57c4-4bc4-a6b2-593c5a190563",
   "metadata": {},
   "source": [
    "1. Primero\n",
    "2. Segundo\n",
    "3. Tercero"
   ]
  },
  {
   "cell_type": "markdown",
   "id": "391d45d6-2bd0-4166-9100-5ac44cbb487a",
   "metadata": {},
   "source": [
    "- Primero\n",
    "- Segundo\n",
    "- Tercero"
   ]
  },
  {
   "cell_type": "code",
   "execution_count": null,
   "id": "a4272eeb-9492-4b09-b412-fb78f8f18e98",
   "metadata": {},
   "outputs": [],
   "source": []
  }
 ],
 "metadata": {
  "kernelspec": {
   "display_name": "Python 3 (ipykernel)",
   "language": "python",
   "name": "python3"
  },
  "language_info": {
   "codemirror_mode": {
    "name": "ipython",
    "version": 3
   },
   "file_extension": ".py",
   "mimetype": "text/x-python",
   "name": "python",
   "nbconvert_exporter": "python",
   "pygments_lexer": "ipython3",
   "version": "3.13.5"
  }
 },
 "nbformat": 4,
 "nbformat_minor": 5
}
