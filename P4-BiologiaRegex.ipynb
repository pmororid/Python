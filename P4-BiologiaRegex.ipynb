{
 "cells": [
  {
   "cell_type": "markdown",
   "id": "985e6f9b",
   "metadata": {},
   "source": [
    "# PRACTICA 4 --> Patricia Morón Ridao 142784 Marta Mateos López 145768\n",
    "\n",
    "### Resuelve los siguientes ejercicios"
   ]
  },
  {
   "cell_type": "markdown",
   "id": "28748e51",
   "metadata": {},
   "source": [
    "##### 1.- Abre el fichero dna.txt, guarda una lista del contenido del archivo. Devuelve su longitud y su primer caracter"
   ]
  },
  {
   "cell_type": "code",
   "execution_count": 41,
   "id": "88679bbc",
   "metadata": {},
   "outputs": [
    {
     "data": {
      "text/plain": [
       "123"
      ]
     },
     "execution_count": 41,
     "metadata": {},
     "output_type": "execute_result"
    }
   ],
   "source": [
    "DNA=(\"ATCGATCGATCGATCGACTGACTAGTCATAGCTATGCATGTAGCTACTCGATCGATCGATCGATCGATCGATCGATCGATCGATCATGCTATCATCGATCGATATCGATGCATCGACTACTAT\")\n",
    "len(DNA)"
   ]
  },
  {
   "cell_type": "code",
   "execution_count": 48,
   "id": "d0583921-a6a1-40ed-b23a-ab294d9a0e6d",
   "metadata": {},
   "outputs": [
    {
     "data": {
      "text/plain": [
       "'A'"
      ]
     },
     "execution_count": 48,
     "metadata": {},
     "output_type": "execute_result"
    }
   ],
   "source": [
    "DNA[0]"
   ]
  },
  {
   "cell_type": "markdown",
   "id": "9b87396a",
   "metadata": {},
   "source": [
    "##### 2.- Crea dos archivos. Uno almacena los accession que empiezen por 'a' y el otro el resto"
   ]
  },
  {
   "cell_type": "code",
   "execution_count": 16,
   "id": "73957856",
   "metadata": {},
   "outputs": [],
   "source": [
    "accs = ['ab56', 'bh84', 'hv76', 'ay93', 'ap97', 'bd72']"
   ]
  },
  {
   "cell_type": "code",
   "execution_count": 50,
   "id": "b9e26c6d-d22e-41e9-9d79-eefae82965d6",
   "metadata": {},
   "outputs": [
    {
     "name": "stdout",
     "output_type": "stream",
     "text": [
      "[]\n"
     ]
    }
   ],
   "source": [
    "# Lista: empiezan por a\n",
    "a_accs = [acc for acc in accs if acc.startswith(\"a\")]\n",
    "print(a_accs)"
   ]
  },
  {
   "cell_type": "code",
   "execution_count": 51,
   "id": "95fcde8d-4a4b-4b48-b785-b46db0c8b479",
   "metadata": {},
   "outputs": [
    {
     "name": "stdout",
     "output_type": "stream",
     "text": [
      "['xkn59438', 'yhdck2', 'eihd39d9', 'chdsye847', 'hedle3455', 'xjhd53e', '45da', 'de37dp']\n"
     ]
    }
   ],
   "source": [
    "# Lista: resto\n",
    "resto_accs = [acc for acc in accs if not acc.startswith(\"a\")]\n",
    "print(resto_accs)"
   ]
  },
  {
   "cell_type": "code",
   "execution_count": 52,
   "id": "b031ab5a-2f19-45a3-91cc-1c19a812d1c9",
   "metadata": {},
   "outputs": [],
   "source": [
    "with open('a_accs.txt', 'w') as f:\n",
    "    for acc in a_accs:\n",
    "        f.write(acc + '\\n')\n",
    "with open('resto_accs.txt', 'w') as f:\n",
    "    for acc in resto_accs:\n",
    "        f.write(acc + '\\n')"
   ]
  },
  {
   "cell_type": "markdown",
   "id": "9cbb4adf",
   "metadata": {},
   "source": [
    "##### 3.- Imprime solamente los accessions de la lista anterior que empiecen por 'a' y no acaben con '6'. Pista: usa endswith() y startswidth()"
   ]
  },
  {
   "cell_type": "code",
   "execution_count": 25,
   "id": "f9922d7e-5988-4022-b076-ed5c2d18464f",
   "metadata": {},
   "outputs": [
    {
     "name": "stdout",
     "output_type": "stream",
     "text": [
      "['ay93', 'ap97']\n"
     ]
    }
   ],
   "source": [
    "a_accs = [acc for acc in accs if acc.startswith(\"a\") and not acc.endswith(\"6\")]\n",
    "print(a_accs)"
   ]
  },
  {
   "cell_type": "markdown",
   "id": "42c397b0",
   "metadata": {},
   "source": [
    "##### 4.- Escribe una función que cuente el porcentaje de A de una secuencia"
   ]
  },
  {
   "cell_type": "code",
   "execution_count": 42,
   "id": "30505c09-cfc1-4869-912b-fab60d55e9fa",
   "metadata": {},
   "outputs": [],
   "source": [
    "def porcentaje_A(seq):\n",
    "    total = len(seq)\n",
    "    num_A = seq.count(\"A\")\n",
    "    return (num_A / total) * 100"
   ]
  },
  {
   "cell_type": "markdown",
   "id": "054b8f51",
   "metadata": {},
   "source": [
    "##### ¿Puedes hacer que devuelva dos decimales? ¿Y que lidie con mayúsculas y minúsculas?"
   ]
  },
  {
   "cell_type": "code",
   "execution_count": 43,
   "id": "cbbc2a9f-fa2d-4f2f-851d-3f9e156b233c",
   "metadata": {},
   "outputs": [],
   "source": [
    "def porcentaje_A(seq):\n",
    "    seq = seq.upper()\n",
    "    total = len(seq)\n",
    "    num_A = seq.count(\"A\")\n",
    "    return round((num_A / total) * 100, 2)"
   ]
  },
  {
   "cell_type": "markdown",
   "id": "36a03b5f",
   "metadata": {},
   "source": [
    "##### ¿Y que devuelva el número de decimales que yo quiero?"
   ]
  },
  {
   "cell_type": "code",
   "execution_count": 44,
   "id": "96862385-aacd-46bb-bc38-56e68783ffea",
   "metadata": {},
   "outputs": [],
   "source": [
    "def porcentaje_A(seq, decimales=2):\n",
    "    seq = seq.upper()\n",
    "    total = len(seq)\n",
    "    num_A = seq.count(\"A\")\n",
    "    return round((num_A / total) * 100, decimales)"
   ]
  },
  {
   "cell_type": "markdown",
   "id": "2c811d84",
   "metadata": {},
   "source": [
    "##### ¿Sabes poner un valor por defecto en un argumento?"
   ]
  },
  {
   "cell_type": "code",
   "execution_count": 45,
   "id": "a6723b80-2445-4e2b-acfb-83777366b02c",
   "metadata": {},
   "outputs": [],
   "source": [
    "def comprar(articulo=\"patatas\"):\n",
    "    print(f\"Compra {articulo}!\")"
   ]
  },
  {
   "cell_type": "markdown",
   "id": "ab2c106c",
   "metadata": {},
   "source": [
    "##### ¿Qué pasa si no ponemos un argumento? ¿Sabrías hacer una función encapsulada?"
   ]
  },
  {
   "cell_type": "code",
   "execution_count": 46,
   "id": "5d0ea1b2-40d2-4107-a55c-362040642611",
   "metadata": {},
   "outputs": [
    {
     "name": "stdout",
     "output_type": "stream",
     "text": [
      "Compra patatas!\n"
     ]
    }
   ],
   "source": [
    "comprar()"
   ]
  },
  {
   "cell_type": "code",
   "execution_count": 47,
   "id": "c3176d8f-624b-4b1f-83d4-7a6879cc5555",
   "metadata": {},
   "outputs": [
    {
     "name": "stdout",
     "output_type": "stream",
     "text": [
      "Compra patatas!\n",
      "Compra tomates!\n"
     ]
    }
   ],
   "source": [
    "def hacer_compra():\n",
    "    def comprar(articulo=\"patatas\"):\n",
    "        print(f\"Compra {articulo}!\")\n",
    "    \n",
    "    comprar()\n",
    "    comprar(\"tomates\")\n",
    "\n",
    "hacer_compra()"
   ]
  },
  {
   "cell_type": "markdown",
   "id": "83af4b0f",
   "metadata": {},
   "source": [
    "##### Testea tu función original con assert"
   ]
  },
  {
   "cell_type": "code",
   "execution_count": 18,
   "id": "8e3b810c-e313-4842-a269-17cba82757c0",
   "metadata": {},
   "outputs": [
    {
     "name": "stdout",
     "output_type": "stream",
     "text": [
      "Compra patatas!\n"
     ]
    },
    {
     "ename": "AssertionError",
     "evalue": "",
     "output_type": "error",
     "traceback": [
      "\u001b[1;31m---------------------------------------------------------------------------\u001b[0m",
      "\u001b[1;31mAssertionError\u001b[0m                            Traceback (most recent call last)",
      "Cell \u001b[1;32mIn[18], line 1\u001b[0m\n\u001b[1;32m----> 1\u001b[0m \u001b[38;5;28;01massert\u001b[39;00m comprar() \u001b[38;5;241m==\u001b[39m \u001b[38;5;124m\"\u001b[39m\u001b[38;5;124mCompra patatas!\u001b[39m\u001b[38;5;124m\"\u001b[39m\n",
      "\u001b[1;31mAssertionError\u001b[0m: "
     ]
    }
   ],
   "source": [
    "assert comprar() == \"Compra patatas!\""
   ]
  },
  {
   "cell_type": "code",
   "execution_count": 19,
   "id": "2bf31b44",
   "metadata": {},
   "outputs": [
    {
     "name": "stdout",
     "output_type": "stream",
     "text": [
      "Compra tomates!\n"
     ]
    },
    {
     "ename": "AssertionError",
     "evalue": "",
     "output_type": "error",
     "traceback": [
      "\u001b[1;31m---------------------------------------------------------------------------\u001b[0m",
      "\u001b[1;31mAssertionError\u001b[0m                            Traceback (most recent call last)",
      "Cell \u001b[1;32mIn[19], line 1\u001b[0m\n\u001b[1;32m----> 1\u001b[0m \u001b[38;5;28;01massert\u001b[39;00m comprar(\u001b[38;5;124m\"\u001b[39m\u001b[38;5;124mtomates\u001b[39m\u001b[38;5;124m\"\u001b[39m) \u001b[38;5;241m==\u001b[39m \u001b[38;5;124m\"\u001b[39m\u001b[38;5;124mCompra tomates!\u001b[39m\u001b[38;5;124m\"\u001b[39m\n",
      "\u001b[1;31mAssertionError\u001b[0m: "
     ]
    }
   ],
   "source": [
    "assert comprar(\"tomates\") == \"Compra tomates!\""
   ]
  },
  {
   "cell_type": "code",
   "execution_count": null,
   "id": "273abb11-66aa-4ed3-bcd2-96b76fa050e9",
   "metadata": {},
   "outputs": [],
   "source": [
    "print(\"✅ Todos los tests pasaron correctamente\")"
   ]
  },
  {
   "cell_type": "code",
   "execution_count": 20,
   "id": "456fba5f-2800-4684-8d63-2b9f61462804",
   "metadata": {},
   "outputs": [
    {
     "ename": "NameError",
     "evalue": "name 'comprar_func' is not defined",
     "output_type": "error",
     "traceback": [
      "\u001b[1;31m---------------------------------------------------------------------------\u001b[0m",
      "\u001b[1;31mNameError\u001b[0m                                 Traceback (most recent call last)",
      "Cell \u001b[1;32mIn[20], line 1\u001b[0m\n\u001b[1;32m----> 1\u001b[0m \u001b[38;5;28;01massert\u001b[39;00m comprar_func() \u001b[38;5;241m==\u001b[39m \u001b[38;5;124m\"\u001b[39m\u001b[38;5;124mCompra patatas!\u001b[39m\u001b[38;5;124m\"\u001b[39m\n",
      "\u001b[1;31mNameError\u001b[0m: name 'comprar_func' is not defined"
     ]
    }
   ],
   "source": [
    "assert comprar_func() == \"Compra patatas!\""
   ]
  },
  {
   "cell_type": "code",
   "execution_count": 21,
   "id": "c83e6321-082e-4744-8c59-5bfa644e1ef2",
   "metadata": {},
   "outputs": [
    {
     "ename": "NameError",
     "evalue": "name 'comprar_func' is not defined",
     "output_type": "error",
     "traceback": [
      "\u001b[1;31m---------------------------------------------------------------------------\u001b[0m",
      "\u001b[1;31mNameError\u001b[0m                                 Traceback (most recent call last)",
      "Cell \u001b[1;32mIn[21], line 1\u001b[0m\n\u001b[1;32m----> 1\u001b[0m \u001b[38;5;28;01massert\u001b[39;00m comprar_func(\u001b[38;5;124m\"\u001b[39m\u001b[38;5;124mmanzanas\u001b[39m\u001b[38;5;124m\"\u001b[39m) \u001b[38;5;241m==\u001b[39m \u001b[38;5;124m\"\u001b[39m\u001b[38;5;124mCompra manzanas!\u001b[39m\u001b[38;5;124m\"\u001b[39m\n",
      "\u001b[1;31mNameError\u001b[0m: name 'comprar_func' is not defined"
     ]
    }
   ],
   "source": [
    "assert comprar_func(\"manzanas\") == \"Compra manzanas!\""
   ]
  },
  {
   "cell_type": "markdown",
   "id": "991abaa2",
   "metadata": {},
   "source": [
    "#### 5.- De la lista de accessions que se proporciona obtén lo siguiente:\n",
    "1. Los que tengan el número 5\n",
    "2. Los que tengan la letra 'd' o la 'e'\n",
    "3. Los que tengan las letras 'd' y 'e' en ese orden\n",
    "4. Los que tengan las letras 'd' y 'e' en ese orden con una letra cualquiera en medio\n",
    "5. Los que tengan ambas letras 'd' y 'e' en cualquier orden\n",
    "6. Los que empiezan por 'x' o por 'y'\n",
    "7. Los que empiezan por 'x' o 'y' y terminan por 'e'\n",
    "8. Los que tienen tres o más dígitos seguidos\n",
    "9. Los que terminan con 'd' seguidos de 'a' o 'r' o 'p'"
   ]
  },
  {
   "cell_type": "code",
   "execution_count": 23,
   "id": "6388ac75",
   "metadata": {},
   "outputs": [],
   "source": [
    "import re"
   ]
  },
  {
   "cell_type": "code",
   "execution_count": 24,
   "id": "d00d3ce7",
   "metadata": {},
   "outputs": [],
   "source": [
    "accs = ['xkn59438', 'yhdck2', 'eihd39d9', 'chdsye847', 'hedle3455', 'xjhd53e', '45da', 'de37dp']"
   ]
  },
  {
   "cell_type": "code",
   "execution_count": 28,
   "id": "d8a9767d-a53d-4709-89e7-6515d1eff860",
   "metadata": {},
   "outputs": [
    {
     "name": "stdout",
     "output_type": "stream",
     "text": [
      "1. ['xkn59438', 'hedle3455', 'xjhd53e', '45da']\n"
     ]
    }
   ],
   "source": [
    "con_5 = [acc for acc in accs if '5' in acc]\n",
    "print(\"1.\", con_5)"
   ]
  },
  {
   "cell_type": "code",
   "execution_count": 29,
   "id": "444c45e2-3544-47c2-8e4a-d37bd311940c",
   "metadata": {},
   "outputs": [
    {
     "name": "stdout",
     "output_type": "stream",
     "text": [
      "2. ['yhdck2', 'eihd39d9', 'chdsye847', 'hedle3455', 'xjhd53e', '45da', 'de37dp']\n"
     ]
    }
   ],
   "source": [
    "con_d_o_e = [acc for acc in accs if 'd' in acc or 'e' in acc]\n",
    "print(\"2.\", con_d_o_e)"
   ]
  },
  {
   "cell_type": "code",
   "execution_count": 54,
   "id": "46501a25-ce2e-4cff-bb8d-ed94ffdd57fd",
   "metadata": {},
   "outputs": [
    {
     "name": "stdout",
     "output_type": "stream",
     "text": [
      "3. ['chdsye847', 'hedle3455', 'xjhd53e', 'de37dp']\n"
     ]
    }
   ],
   "source": [
    "con_de = [acc for acc in accs if re.search('d.*e', acc)]\n",
    "print(\"3.\", con_de)  "
   ]
  },
  {
   "cell_type": "code",
   "execution_count": 31,
   "id": "49dc8dac-cbb0-4223-9764-b007d9a82106",
   "metadata": {},
   "outputs": [
    {
     "name": "stdout",
     "output_type": "stream",
     "text": [
      "4. ['hedle3455']\n"
     ]
    }
   ],
   "source": [
    "con_d_e_con_medio = [acc for acc in accs if re.search('d.e', acc) or re.search('e.d', acc)]\n",
    "print(\"4.\", con_d_e_con_medio)"
   ]
  },
  {
   "cell_type": "code",
   "execution_count": 32,
   "id": "4a352543-ec3e-480d-a87b-9d7ef5873b8d",
   "metadata": {},
   "outputs": [
    {
     "name": "stdout",
     "output_type": "stream",
     "text": [
      "5. ['eihd39d9', 'chdsye847', 'hedle3455', 'xjhd53e', 'de37dp']\n"
     ]
    }
   ],
   "source": [
    "con_d_y_e = [acc for acc in accs if 'd' in acc and 'e' in acc]\n",
    "print(\"5.\", con_d_y_e)"
   ]
  },
  {
   "cell_type": "code",
   "execution_count": 36,
   "id": "784b7f03-ea9b-4209-9f4e-6bef67037a20",
   "metadata": {},
   "outputs": [
    {
     "name": "stdout",
     "output_type": "stream",
     "text": [
      "6. ['xkn59438', 'yhdck2', 'xjhd53e']\n"
     ]
    }
   ],
   "source": [
    "empieza_x_o_y = [acc for acc in accs if acc.startswith('x') or acc.startswith('y')]\n",
    "print(\"6.\", empieza_x_o_y)"
   ]
  },
  {
   "cell_type": "code",
   "execution_count": 37,
   "id": "84107536-3669-49b2-b89f-d5c94dafeb63",
   "metadata": {},
   "outputs": [
    {
     "name": "stdout",
     "output_type": "stream",
     "text": [
      "7. ['xjhd53e']\n"
     ]
    }
   ],
   "source": [
    "empieza_x_y_termina_e = [acc for acc in accs if (acc.startswith('x') or acc.startswith('y')) and acc.endswith('e')]\n",
    "print(\"7.\", empieza_x_y_termina_e)"
   ]
  },
  {
   "cell_type": "code",
   "execution_count": 38,
   "id": "db4ccc27-8d09-4729-8e9d-1a3420cfd68d",
   "metadata": {},
   "outputs": [
    {
     "name": "stdout",
     "output_type": "stream",
     "text": [
      "8. ['xkn59438', 'eihd39d9', 'chdsye847', 'hedle3455']\n"
     ]
    }
   ],
   "source": [
    "con_tres_digitos = [acc for acc in accs if sum(c.isdigit() for c in acc) >= 3]\n",
    "print(\"8.\", con_tres_digitos)"
   ]
  },
  {
   "cell_type": "code",
   "execution_count": 39,
   "id": "4f8d580d-8cbd-4e42-8b24-df3f964403e3",
   "metadata": {},
   "outputs": [
    {
     "name": "stdout",
     "output_type": "stream",
     "text": [
      "9. ['45da', 'de37dp']\n"
     ]
    }
   ],
   "source": [
    "termina_d_a_r_p = [acc for acc in accs if re.search('d[arp]$', acc)]\n",
    "print(\"9.\", termina_d_a_r_p)"
   ]
  }
 ],
 "metadata": {
  "kernelspec": {
   "display_name": "Python 3 (ipykernel)",
   "language": "python",
   "name": "python3"
  },
  "language_info": {
   "codemirror_mode": {
    "name": "ipython",
    "version": 3
   },
   "file_extension": ".py",
   "mimetype": "text/x-python",
   "name": "python",
   "nbconvert_exporter": "python",
   "pygments_lexer": "ipython3",
   "version": "3.13.5"
  }
 },
 "nbformat": 4,
 "nbformat_minor": 5
}
