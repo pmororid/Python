{
 "cells": [
  {
   "cell_type": "markdown",
   "id": "e87fdfc4",
   "metadata": {},
   "source": [
    "# PRACTICA 3   --> Patricia Morón Ridao 142784    Marta Mateos López  145768\n",
    "\n",
    "\n",
    "## JUEGO DE ADIVINANZAS\n",
    "\n",
    "#### Escribe un programa que coja un número entero del 1 al 100, y los jugadores tienen que tratar de adivinar el número.\n",
    "\n",
    "#### Las reglas son las siguientes:\n",
    "\n",
    "1. Si un jugador escoje un número menor que 1 o mayor que 100, el programa dice \"FUERA DE LÍMITES\"\n",
    "2. En el primer turno del jugador, si está en un rango de 10 del número dice \"¡CALIENTE!\". Si está fuera de ese rango dice \"¡FRIO!\"\n",
    "3. En todas las rondas siguientes, si el jugador se acerca más que la vez anterior, dice \"¡MAS CALIENTE!\". Si está más lejos que la anterior vez dice \"¡MAS FRIO!\"\n",
    "4. Cuando el jugador acierte el número, les dirá que han acertado y cuántos intentos les ha llevado\n",
    "\n",
    "\n",
    "\n"
   ]
  },
  {
   "cell_type": "markdown",
   "id": "1ea418c3",
   "metadata": {},
   "source": [
    "##### PISTAS\n",
    "1. Trata obtener un número aleatorio entre el 1 y el 100\n",
    "2. Haz una introducción de tu juego y explica las reglas\n",
    "3. Crea una lista que almacene los intentos. \n",
    "4. Haz un bucle que evalúe un número. Prueba que funcione primero. While podría ir bien\n",
    "5. Modifica ese bucle para que compare nuestro número con el intento. Si se acierta usa break, si no puedes usar continue y tienes que seguir preguntando al jugador por nuevos intentos"
   ]
  },
  {
   "cell_type": "code",
   "execution_count": 2,
   "id": "c696d17c-aa69-47d5-9c59-fec21c5379f1",
   "metadata": {},
   "outputs": [
    {
     "name": "stdout",
     "output_type": "stream",
     "text": [
      "Empezamos el juego de adivinanzas\n",
      "Adivina el número secreto entre 1 y 100\n",
      "Reglas: fuera de rango → 'FUERA DE LÍMITES',\n",
      "Primer turno: '¡CALIENTE!' si está en rango de 10 , '¡FRÍO!' si no.\n",
      "Siguientes: '¡MÁS CALIENTE!' o '¡MÁS FRÍO!' según te acerques.\n",
      "\n"
     ]
    },
    {
     "name": "stdin",
     "output_type": "stream",
     "text": [
      "Introduce tu número:  6\n"
     ]
    },
    {
     "name": "stdout",
     "output_type": "stream",
     "text": [
      "¡CALIENTE!\n"
     ]
    },
    {
     "name": "stdin",
     "output_type": "stream",
     "text": [
      "Introduce tu número:  9\n"
     ]
    },
    {
     "name": "stdout",
     "output_type": "stream",
     "text": [
      "🥶 ¡MÁS FRÍO!\n"
     ]
    },
    {
     "name": "stdin",
     "output_type": "stream",
     "text": [
      "Introduce tu número:  1\n"
     ]
    },
    {
     "name": "stdout",
     "output_type": "stream",
     "text": [
      "🔥 ¡MÁS CALIENTE!\n"
     ]
    },
    {
     "name": "stdin",
     "output_type": "stream",
     "text": [
      "Introduce tu número:  2\n"
     ]
    },
    {
     "name": "stdout",
     "output_type": "stream",
     "text": [
      "🔥 ¡MÁS CALIENTE!\n"
     ]
    },
    {
     "name": "stdin",
     "output_type": "stream",
     "text": [
      "Introduce tu número:  3\n"
     ]
    },
    {
     "name": "stdout",
     "output_type": "stream",
     "text": [
      "🔥 ¡MÁS CALIENTE!\n"
     ]
    },
    {
     "name": "stdin",
     "output_type": "stream",
     "text": [
      "Introduce tu número:  4\n"
     ]
    },
    {
     "name": "stdout",
     "output_type": "stream",
     "text": [
      "¡Has acertado! El número era 4.\n",
      "Lo acertaste en 6 intentos.\n"
     ]
    }
   ],
   "source": [
    "def juego_adivinanzas():\n",
    "    numero_secreto = random.randint(1, 100)\n",
    "    print(\"Empezamos el juego de adivinanzas\")\n",
    "    print(\"Adivina el número secreto entre 1 y 100\")\n",
    "    print(\"Reglas: fuera de rango → 'FUERA DE LÍMITES',\")\n",
    "    print(\"Primer turno: '¡CALIENTE!' si está en rango de 10 , '¡FRÍO!' si no.\")\n",
    "    print(\"Siguientes: '¡MÁS CALIENTE!' o '¡MÁS FRÍO!' según te acerques.\\n\")\n",
    "\n",
    "    intentos = []\n",
    "\n",
    "    while True:\n",
    "        try:\n",
    "            guess = int(input(\"Introduce tu número: \"))\n",
    "        except ValueError:\n",
    "            print(\"Debes escribir un número entero.\")\n",
    "            continue\n",
    "\n",
    "        if guess < 1 or guess > 100:\n",
    "            print(\"FUERA DE LÍMITES\")\n",
    "            continue\n",
    "\n",
    "    # Guardar intento en la lista de intentos anterior\n",
    "        intentos.append(guess)\n",
    "\n",
    "        if guess == numero_secreto:\n",
    "            print(f\"¡Has acertado! El número era {numero_secreto}.\")\n",
    "            print(f\"Lo acertaste en {len(intentos)} intentos.\")\n",
    "            break\n",
    "\n",
    "        # Primer turno\n",
    "        if len(intentos) == 1:\n",
    "            if abs(numero_secreto - guess) <= 10:\n",
    "                print(\"¡CALIENTE!\")\n",
    "            else:\n",
    "                print(\"¡FRÍO!\")\n",
    "        else:\n",
    "            if abs(numero_secreto - guess) < abs(numero_secreto - intentos[-2]):\n",
    "                print(\"¡MÁS CALIENTE!\")\n",
    "            else:\n",
    "                print(\"¡MÁS FRÍO!\")\n",
    "juego_adivinanzas()\n"
   ]
  },
  {
   "cell_type": "markdown",
   "id": "377f70d6-7ce9-48d3-9cd4-ec80dded0fd6",
   "metadata": {},
   "source": []
  }
 ],
 "metadata": {
  "kernelspec": {
   "display_name": "Python 3 (ipykernel)",
   "language": "python",
   "name": "python3"
  },
  "language_info": {
   "codemirror_mode": {
    "name": "ipython",
    "version": 3
   },
   "file_extension": ".py",
   "mimetype": "text/x-python",
   "name": "python",
   "nbconvert_exporter": "python",
   "pygments_lexer": "ipython3",
   "version": "3.13.5"
  }
 },
 "nbformat": 4,
 "nbformat_minor": 5
}
