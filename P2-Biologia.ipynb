{
 "cells": [
  {
   "cell_type": "markdown",
   "id": "985e6f9b",
   "metadata": {},
   "source": [
    "# PRACTICA 2 --> Patricia Morón Ridao 142784    Marta Mateos López  145768\n",
    "\n",
    "### ¡Con todo lo aprendido con Python, vamos a resolver unos ejercicios de Bioinformática!\n",
    "\n",
    "#### 1.- Concatena las cadenas ATGCC y TCCG"
   ]
  },
  {
   "cell_type": "code",
   "execution_count": 14,
   "id": "c06c7b6f",
   "metadata": {},
   "outputs": [],
   "source": [
    "cadena1 = \"ATGCC\"\n",
    "cadena2 = \"TCCG\""
   ]
  },
  {
   "cell_type": "code",
   "execution_count": 15,
   "id": "b845927c",
   "metadata": {},
   "outputs": [
    {
     "name": "stdout",
     "output_type": "stream",
     "text": [
      "ATGCCTCCG\n"
     ]
    }
   ],
   "source": [
    "sumadecadenas = cadena1 + cadena2\n",
    "print(sumadecadenas)"
   ]
  },
  {
   "cell_type": "markdown",
   "id": "1f4b7708",
   "metadata": {},
   "source": [
    "#### 2.- ¿Cuál es la longitud de ATGCGAGT?"
   ]
  },
  {
   "cell_type": "code",
   "execution_count": 16,
   "id": "8f78cad8",
   "metadata": {},
   "outputs": [],
   "source": [
    "dna=\"ATGCGAGT\""
   ]
  },
  {
   "cell_type": "code",
   "execution_count": 17,
   "id": "ecce1da6",
   "metadata": {},
   "outputs": [
    {
     "data": {
      "text/plain": [
       "8"
      ]
     },
     "execution_count": 17,
     "metadata": {},
     "output_type": "execute_result"
    }
   ],
   "source": [
    "len (\"ATGCGAGT\")"
   ]
  },
  {
   "cell_type": "markdown",
   "id": "6361c287",
   "metadata": {},
   "source": [
    "#### 3.- Con la cadena mgXDyTw, ponla en mayúsculas, luego en minúsculas. Extrae su longitud y divide la cadena por la letra \"g\""
   ]
  },
  {
   "cell_type": "code",
   "execution_count": 18,
   "id": "b69beca1",
   "metadata": {},
   "outputs": [],
   "source": [
    "cadena=\"mgXDyTw\""
   ]
  },
  {
   "cell_type": "code",
   "execution_count": 21,
   "id": "51591dca",
   "metadata": {},
   "outputs": [
    {
     "name": "stdout",
     "output_type": "stream",
     "text": [
      "MGXDYTW\n"
     ]
    }
   ],
   "source": [
    "print(cadena.upper())"
   ]
  },
  {
   "cell_type": "code",
   "execution_count": 22,
   "id": "d260a5f2-ae8e-484a-b034-ed90283537a0",
   "metadata": {},
   "outputs": [
    {
     "name": "stdout",
     "output_type": "stream",
     "text": [
      "mgxdytw\n"
     ]
    }
   ],
   "source": [
    "print(cadena.lower())"
   ]
  },
  {
   "cell_type": "code",
   "execution_count": 10,
   "id": "aebe0903-3d16-4f98-b6dc-ed45e85fef6b",
   "metadata": {},
   "outputs": [
    {
     "data": {
      "text/plain": [
       "7"
      ]
     },
     "execution_count": 10,
     "metadata": {},
     "output_type": "execute_result"
    }
   ],
   "source": [
    "len(\"mgXDyTw\")"
   ]
  },
  {
   "cell_type": "code",
   "execution_count": 25,
   "id": "6fdd6a2e-01bc-4709-9b8a-185a469f8c26",
   "metadata": {},
   "outputs": [
    {
     "data": {
      "text/plain": [
       "['m', 'XDyTw']"
      ]
     },
     "execution_count": 25,
     "metadata": {},
     "output_type": "execute_result"
    }
   ],
   "source": [
    "cadena.split(\"g\")"
   ]
  },
  {
   "cell_type": "markdown",
   "id": "91c2ca9d",
   "metadata": {},
   "source": [
    "#### 4.- Con la secuencia de aminoácidos vlspadktnv, reemplaza la valina con la tirosina. Pista: usa replace()"
   ]
  },
  {
   "cell_type": "code",
   "execution_count": 26,
   "id": "a049ecdd",
   "metadata": {},
   "outputs": [],
   "source": [
    "aa = \"vlspadktnv\""
   ]
  },
  {
   "cell_type": "code",
   "execution_count": 28,
   "id": "0c464cc2",
   "metadata": {},
   "outputs": [
    {
     "name": "stdout",
     "output_type": "stream",
     "text": [
      "tlspadktnt\n"
     ]
    }
   ],
   "source": [
    "print(aa.replace(\"v\",\"t\"))"
   ]
  },
  {
   "cell_type": "markdown",
   "id": "97f9ecd6",
   "metadata": {},
   "source": [
    "#### 5.- Cuenta las valinas de la secuencia original anterior."
   ]
  },
  {
   "cell_type": "code",
   "execution_count": 29,
   "id": "b4b5600f",
   "metadata": {},
   "outputs": [
    {
     "data": {
      "text/plain": [
       "2"
      ]
     },
     "execution_count": 29,
     "metadata": {},
     "output_type": "execute_result"
    }
   ],
   "source": [
    "aa.count(\"v\")"
   ]
  },
  {
   "cell_type": "markdown",
   "id": "6aac8e24",
   "metadata": {},
   "source": [
    "#### 6.- Con el diccionario siguiente imprime el valor de BisI y saca el valor de EcoRI con pop(). ¿Qué pasa con el diccionario?"
   ]
  },
  {
   "cell_type": "code",
   "execution_count": 41,
   "id": "c0c811d7",
   "metadata": {},
   "outputs": [],
   "source": [
    "enzR = {\n",
    "    'EcoRI':r'GAATTC',\n",
    "    'AvaII':r'GG(A|T)CC',\n",
    "    'BisI':r'GC[ATGC]GC'\n",
    "}"
   ]
  },
  {
   "cell_type": "code",
   "execution_count": 42,
   "id": "5dacb009",
   "metadata": {},
   "outputs": [
    {
     "name": "stdout",
     "output_type": "stream",
     "text": [
      "GC[ATGC]GC\n"
     ]
    }
   ],
   "source": [
    "print(enzR [\"BisI\"])"
   ]
  },
  {
   "cell_type": "code",
   "execution_count": 43,
   "id": "a807fd52-a618-41ce-a7a9-5b100a46130b",
   "metadata": {},
   "outputs": [
    {
     "name": "stdout",
     "output_type": "stream",
     "text": [
      "GAATTC\n"
     ]
    }
   ],
   "source": [
    "valor_quitado=enzR.pop(\"EcoRI\")\n",
    "print(valor_quitado)"
   ]
  },
  {
   "cell_type": "code",
   "execution_count": 44,
   "id": "7de885dd-ace9-40f1-87b4-a3dd2e18addb",
   "metadata": {},
   "outputs": [
    {
     "name": "stdout",
     "output_type": "stream",
     "text": [
      "{'AvaII': 'GG(A|T)CC', 'BisI': 'GC[ATGC]GC'}\n"
     ]
    }
   ],
   "source": [
    "print(enzR)"
   ]
  },
  {
   "cell_type": "markdown",
   "id": "4646bddd",
   "metadata": {},
   "source": [
    "#### 7.- Con la secuencia y la lista siguiente, escribe un algoritmo que cuente el número de veces que aparece un elemento de la lista en la secuencia. Pista: hacer un diccionario para almacenar los resultados puede ser buena idea"
   ]
  },
  {
   "cell_type": "code",
   "execution_count": 46,
   "id": "0a701a5e",
   "metadata": {},
   "outputs": [],
   "source": [
    "dna = \"AATGATGAACGAC\" \n",
    "dinucleotides = ['AA','AT','AG','AC', \n",
    "                 'TA','TT','TG','TC', \n",
    "                 'GA','GT','GG','GC', \n",
    "                 'CA','CT','CG','CT'] "
   ]
  },
  {
   "cell_type": "code",
   "execution_count": 49,
   "id": "59d4cc1a-f6e9-4130-84f8-bd4695fbfa84",
   "metadata": {},
   "outputs": [
    {
     "name": "stdout",
     "output_type": "stream",
     "text": [
      "{'AA': 2, 'AT': 2, 'AG': 0, 'AC': 2, 'TA': 0, 'TT': 0, 'TG': 2, 'TC': 0, 'GA': 3, 'GT': 0, 'GG': 0, 'GC': 0, 'CA': 0, 'CT': 0, 'CG': 1}\n"
     ]
    }
   ],
   "source": [
    "dict_dinuc = {}\n",
    "\n",
    "for d in dinucleotides:\n",
    "    dict_dinuc[d] = dna.count(d)\n",
    "\n",
    "print(dict_dinuc)"
   ]
  },
  {
   "cell_type": "markdown",
   "id": "a44b5e4c",
   "metadata": {},
   "source": [
    "##### ¿Cuántos counts tiene TC?"
   ]
  },
  {
   "cell_type": "code",
   "execution_count": 51,
   "id": "3003eef4",
   "metadata": {},
   "outputs": [
    {
     "data": {
      "text/plain": [
       "0"
      ]
     },
     "execution_count": 51,
     "metadata": {},
     "output_type": "execute_result"
    }
   ],
   "source": [
    "dna.count(\"TC\")"
   ]
  },
  {
   "cell_type": "markdown",
   "id": "70245f18",
   "metadata": {},
   "source": [
    "##### ¿Puedes imprimir los dinuleótidos que tengan counts igual a 2?"
   ]
  },
  {
   "cell_type": "code",
   "execution_count": 52,
   "id": "b83480e8",
   "metadata": {},
   "outputs": [
    {
     "name": "stdout",
     "output_type": "stream",
     "text": [
      "AA\n",
      "AT\n",
      "AC\n",
      "TG\n"
     ]
    }
   ],
   "source": [
    "for dinuc, count in dict_dinuc.items():\n",
    "    if count == 2:\n",
    "        print(dinuc)"
   ]
  }
 ],
 "metadata": {
  "kernelspec": {
   "display_name": "Python 3 (ipykernel)",
   "language": "python",
   "name": "python3"
  },
  "language_info": {
   "codemirror_mode": {
    "name": "ipython",
    "version": 3
   },
   "file_extension": ".py",
   "mimetype": "text/x-python",
   "name": "python",
   "nbconvert_exporter": "python",
   "pygments_lexer": "ipython3",
   "version": "3.13.5"
  }
 },
 "nbformat": 4,
 "nbformat_minor": 5
}
