{
 "cells": [
  {
   "cell_type": "markdown",
   "id": "57e5a4ba",
   "metadata": {},
   "source": [
    "# PRACTICA 1\n",
    "\n",
    "### Resuelve las siguientes preguntas empleando lo aprendido con las estructuras de Datos"
   ]
  },
  {
   "cell_type": "markdown",
   "id": "092831f1",
   "metadata": {},
   "source": [
    "Pon el código debajo de cada pregunta. Añade tantas celdas de código como necesites."
   ]
  },
  {
   "cell_type": "markdown",
   "id": "94b6abb8",
   "metadata": {},
   "source": [
    "#### 1.- Escribe una ecuación que emplee multiplicación, división, un exponente, suma y resta y que sea igual a 100.25. (0,25 ptos)"
   ]
  },
  {
   "cell_type": "code",
   "execution_count": 25,
   "id": "4e5e660a",
   "metadata": {},
   "outputs": [
    {
     "data": {
      "text/plain": [
       "100.25"
      ]
     },
     "execution_count": 25,
     "metadata": {},
     "output_type": "execute_result"
    }
   ],
   "source": [
    "result = ((10**2 + 5) * 2 - 15)/2 + 2.75\n",
    "result\n"
   ]
  },
  {
   "cell_type": "markdown",
   "id": "95ec00dc",
   "metadata": {},
   "source": [
    "#### 2.- ¿Qué harías para obtener la raíz cuadrada de 100? Busca dos formas. (0,5 ptos)"
   ]
  },
  {
   "cell_type": "code",
   "execution_count": 48,
   "id": "d1476ef0",
   "metadata": {},
   "outputs": [
    {
     "data": {
      "text/plain": [
       "10.0"
      ]
     },
     "execution_count": 48,
     "metadata": {},
     "output_type": "execute_result"
    }
   ],
   "source": [
    "# Raíces \n",
    "100**0.5"
   ]
  },
  {
   "cell_type": "code",
   "execution_count": 49,
   "id": "a945eb8c-5d02-4557-95cb-dd3661075e25",
   "metadata": {},
   "outputs": [
    {
     "data": {
      "text/plain": [
       "10.0"
      ]
     },
     "execution_count": 49,
     "metadata": {},
     "output_type": "execute_result"
    }
   ],
   "source": [
    "# Potencia\n",
    "100**0.5"
   ]
  },
  {
   "cell_type": "code",
   "execution_count": 1,
   "id": "921af29c-fd4e-4f9a-849b-8d6d354cfccc",
   "metadata": {},
   "outputs": [],
   "source": [
    "import math\n",
    "print(math.sqrt(100))"
   ]
  },
  {
   "cell_type": "markdown",
   "id": "95232620",
   "metadata": {},
   "source": [
    "#### 3.- ¿Y el cuadrado de 100? (0,25 ptos)"
   ]
  },
  {
   "cell_type": "code",
   "execution_count": 40,
   "id": "14249667",
   "metadata": {},
   "outputs": [
    {
     "data": {
      "text/plain": [
       "10000"
      ]
     },
     "execution_count": 40,
     "metadata": {},
     "output_type": "execute_result"
    }
   ],
   "source": [
    "# Potencia \n",
    "100**2"
   ]
  },
  {
   "cell_type": "markdown",
   "id": "7fc5bfae",
   "metadata": {},
   "source": [
    "#### 4.- Tenemos la string 'hello'. (0,5 ptos)\n",
    "#### Primero devuelve la letra 'e'\n",
    "#### Luego dale la vuelta a la string \n",
    "#### Después usa dos métodos para devolver la letra 'o'"
   ]
  },
  {
   "cell_type": "code",
   "execution_count": 6,
   "id": "a6d0eb90",
   "metadata": {},
   "outputs": [],
   "source": [
    "s = \"hello\""
   ]
  },
  {
   "cell_type": "code",
   "execution_count": 5,
   "id": "cbc4c191-6599-4291-ae34-6c8cc1ab2d8f",
   "metadata": {},
   "outputs": [
    {
     "data": {
      "text/plain": [
       "'e'"
      ]
     },
     "execution_count": 5,
     "metadata": {},
     "output_type": "execute_result"
    }
   ],
   "source": [
    "s[1]"
   ]
  },
  {
   "cell_type": "code",
   "execution_count": 58,
   "id": "bacdc6ec-ba57-4c48-a55e-d153576b69f1",
   "metadata": {},
   "outputs": [
    {
     "data": {
      "text/plain": [
       "'olleh'"
      ]
     },
     "execution_count": 58,
     "metadata": {},
     "output_type": "execute_result"
    }
   ],
   "source": [
    "s [::-1]"
   ]
  },
  {
   "cell_type": "code",
   "execution_count": 61,
   "id": "a3f33800",
   "metadata": {},
   "outputs": [
    {
     "data": {
      "text/plain": [
       "'o'"
      ]
     },
     "execution_count": 61,
     "metadata": {},
     "output_type": "execute_result"
    }
   ],
   "source": [
    "s [4:5]"
   ]
  },
  {
   "cell_type": "code",
   "execution_count": 57,
   "id": "a116e9cf-811f-4966-b06c-6455fdda7cd7",
   "metadata": {},
   "outputs": [
    {
     "data": {
      "text/plain": [
       "'o'"
      ]
     },
     "execution_count": 57,
     "metadata": {},
     "output_type": "execute_result"
    }
   ],
   "source": [
    "s [4:]"
   ]
  },
  {
   "cell_type": "code",
   "execution_count": 8,
   "id": "11aa9e76-e0bf-4766-96e2-fba72ecb107c",
   "metadata": {},
   "outputs": [
    {
     "data": {
      "text/plain": [
       "'o'"
      ]
     },
     "execution_count": 8,
     "metadata": {},
     "output_type": "execute_result"
    }
   ],
   "source": [
    "s[4]"
   ]
  },
  {
   "cell_type": "code",
   "execution_count": 9,
   "id": "1b2c7606-5bf8-402b-b9b2-7da8ed377f8c",
   "metadata": {},
   "outputs": [
    {
     "data": {
      "text/plain": [
       "'o'"
      ]
     },
     "execution_count": 9,
     "metadata": {},
     "output_type": "execute_result"
    }
   ],
   "source": [
    "s[-1]"
   ]
  },
  {
   "cell_type": "markdown",
   "id": "0febc918",
   "metadata": {},
   "source": [
    "#### 5.- Crear una lista que contenga esto [0,0,0] de dos formas distintas (0,5 ptos)"
   ]
  },
  {
   "cell_type": "code",
   "execution_count": 64,
   "id": "30981b24",
   "metadata": {},
   "outputs": [
    {
     "data": {
      "text/plain": [
       "[0, 0, 0]"
      ]
     },
     "execution_count": 64,
     "metadata": {},
     "output_type": "execute_result"
    }
   ],
   "source": [
    "mi_lista = [0,0,0]\n",
    "mi_lista"
   ]
  },
  {
   "cell_type": "code",
   "execution_count": 91,
   "id": "fb4a1351-462a-4288-8873-c05858dccc66",
   "metadata": {},
   "outputs": [
    {
     "data": {
      "text/plain": [
       "[0, 0, 0]"
      ]
     },
     "execution_count": 91,
     "metadata": {},
     "output_type": "execute_result"
    }
   ],
   "source": [
    "s = 0\n",
    "mi_lista1 = [s,0]\n",
    "mi_lista1\n",
    "mi_lista1.append(0)\n",
    "mi_lista1"
   ]
  },
  {
   "cell_type": "markdown",
   "id": "00570b63-ff28-4fd9-a698-5928d1a074b5",
   "metadata": {},
   "source": [
    "#### 6.- Reasigna 'hello' en la lista a continuación para que diga 'goodbye' (1 pto)"
   ]
  },
  {
   "cell_type": "code",
   "execution_count": 22,
   "id": "812a6005-7955-4963-a877-6da945973d05",
   "metadata": {},
   "outputs": [],
   "source": [
    "lista = [1,2,[3,4,'hello']]"
   ]
  },
  {
   "cell_type": "code",
   "execution_count": 92,
   "id": "e9eb03ae",
   "metadata": {},
   "outputs": [
    {
     "data": {
      "text/plain": [
       "[1, 2, [3, 4, 'goodbay']]"
      ]
     },
     "execution_count": 92,
     "metadata": {},
     "output_type": "execute_result"
    }
   ],
   "source": [
    "lista = [1,2,[3,4,\"goodbay\"]]\n",
    "lista"
   ]
  },
  {
   "cell_type": "code",
   "execution_count": 23,
   "id": "37e6597c-9731-40ce-b11d-e9ac909e656e",
   "metadata": {},
   "outputs": [
    {
     "data": {
      "text/plain": [
       "'hello'"
      ]
     },
     "execution_count": 23,
     "metadata": {},
     "output_type": "execute_result"
    }
   ],
   "source": [
    "lista[2].pop()\n",
    "# .pop() siempre quita lo último"
   ]
  },
  {
   "cell_type": "code",
   "execution_count": 26,
   "id": "a2532277-47cc-4484-8160-f3e99c8f43f2",
   "metadata": {},
   "outputs": [
    {
     "ename": "AttributeError",
     "evalue": "'NoneType' object has no attribute 'append'",
     "output_type": "error",
     "traceback": [
      "\u001b[1;31m---------------------------------------------------------------------------\u001b[0m",
      "\u001b[1;31mAttributeError\u001b[0m                            Traceback (most recent call last)",
      "Cell \u001b[1;32mIn[26], line 1\u001b[0m\n\u001b[1;32m----> 1\u001b[0m lista[\u001b[38;5;241m2\u001b[39m]\u001b[38;5;241m.\u001b[39mappend(\u001b[38;5;124m\"\u001b[39m\u001b[38;5;124mgoodbye\u001b[39m\u001b[38;5;124m\"\u001b[39m)\n",
      "\u001b[1;31mAttributeError\u001b[0m: 'NoneType' object has no attribute 'append'"
     ]
    }
   ],
   "source": [
    "lista[2].append(\"goodbye\")"
   ]
  },
  {
   "cell_type": "markdown",
   "id": "77e38490",
   "metadata": {},
   "source": [
    "#### 7.- Ordena la siguiente lista (0,5 ptos)"
   ]
  },
  {
   "cell_type": "code",
   "execution_count": 95,
   "id": "bc957d55",
   "metadata": {},
   "outputs": [],
   "source": [
    "listaSinOrdenar = [5,3,4,6,1]"
   ]
  },
  {
   "cell_type": "code",
   "execution_count": 94,
   "id": "4e536a6a-f730-4848-9bd6-d04633b57b7d",
   "metadata": {},
   "outputs": [
    {
     "data": {
      "text/plain": [
       "[1, 3, 4, 5, 6]"
      ]
     },
     "execution_count": 94,
     "metadata": {},
     "output_type": "execute_result"
    }
   ],
   "source": [
    "listaSinOrdenar.sort ()\n",
    "listaSinOrdenar"
   ]
  },
  {
   "cell_type": "markdown",
   "id": "0cc790ac",
   "metadata": {},
   "source": [
    "#### 8.- En los siguientes diccionarios, extrae el valor de 'hello (2 ptos)"
   ]
  },
  {
   "cell_type": "code",
   "execution_count": 132,
   "id": "c390a0bb",
   "metadata": {},
   "outputs": [],
   "source": [
    "f = {'k1':{'k2':'hello'}}"
   ]
  },
  {
   "cell_type": "code",
   "execution_count": 138,
   "id": "e76955b6-6275-4683-a6dd-9e0747c49615",
   "metadata": {},
   "outputs": [
    {
     "data": {
      "text/plain": [
       "'hello'"
      ]
     },
     "execution_count": 138,
     "metadata": {},
     "output_type": "execute_result"
    }
   ],
   "source": [
    "f['k1']['k2']"
   ]
  },
  {
   "cell_type": "code",
   "execution_count": 148,
   "id": "c0244e1f",
   "metadata": {},
   "outputs": [],
   "source": [
    "d = {'key1':'hello'}"
   ]
  },
  {
   "cell_type": "code",
   "execution_count": 149,
   "id": "196ef04c",
   "metadata": {},
   "outputs": [
    {
     "data": {
      "text/plain": [
       "'hello'"
      ]
     },
     "execution_count": 149,
     "metadata": {},
     "output_type": "execute_result"
    }
   ],
   "source": [
    "d['key1']"
   ]
  },
  {
   "cell_type": "code",
   "execution_count": 152,
   "id": "344d780b",
   "metadata": {},
   "outputs": [],
   "source": [
    "g = {'k1':[{'o1':['valor escondido',['hello']]}]}"
   ]
  },
  {
   "cell_type": "code",
   "execution_count": 193,
   "id": "e965a858",
   "metadata": {},
   "outputs": [
    {
     "data": {
      "text/plain": [
       "'hello'"
      ]
     },
     "execution_count": 193,
     "metadata": {},
     "output_type": "execute_result"
    }
   ],
   "source": [
    "g[\"k1\"][0][\"o1\"][1][0]"
   ]
  },
  {
   "cell_type": "code",
   "execution_count": 30,
   "id": "663f9ffd",
   "metadata": {},
   "outputs": [],
   "source": [
    "h = {'k1':[1,2,{'k2':['complicado',{'dificil':[1,2,['hello']]}]}]}"
   ]
  },
  {
   "cell_type": "code",
   "execution_count": 31,
   "id": "9b9d7d97",
   "metadata": {},
   "outputs": [
    {
     "data": {
      "text/plain": [
       "'hello'"
      ]
     },
     "execution_count": 31,
     "metadata": {},
     "output_type": "execute_result"
    }
   ],
   "source": [
    "h[\"k1\"][2][\"k2\"][1][\"dificil\"][2][0]"
   ]
  },
  {
   "cell_type": "code",
   "execution_count": 32,
   "id": "90664316-770c-4bd2-92e0-2c6ed4428c74",
   "metadata": {},
   "outputs": [
    {
     "data": {
      "text/plain": [
       "'hello'"
      ]
     },
     "execution_count": 32,
     "metadata": {},
     "output_type": "execute_result"
    }
   ],
   "source": [
    "h[\"k1\"][-1][\"k2\"][1][\"dificil\"][2][0]"
   ]
  },
  {
   "cell_type": "markdown",
   "id": "7692eea8",
   "metadata": {},
   "source": [
    "#### 9.- Crea una tupla (1 pto)"
   ]
  },
  {
   "cell_type": "code",
   "execution_count": 168,
   "id": "23886da1",
   "metadata": {},
   "outputs": [
    {
     "data": {
      "text/plain": [
       "3"
      ]
     },
     "execution_count": 168,
     "metadata": {},
     "output_type": "execute_result"
    }
   ],
   "source": [
    "a = (5,6,7)\n",
    "len(a)"
   ]
  },
  {
   "cell_type": "code",
   "execution_count": 169,
   "id": "6c852e6a-ddbb-4b2e-8d52-1a9dfa1758ce",
   "metadata": {},
   "outputs": [
    {
     "data": {
      "text/plain": [
       "tuple"
      ]
     },
     "execution_count": 169,
     "metadata": {},
     "output_type": "execute_result"
    }
   ],
   "source": [
    "type(a)"
   ]
  },
  {
   "cell_type": "markdown",
   "id": "6231d723",
   "metadata": {},
   "source": [
    "#### 10.- Emplea los sets para encontrar los valores únicos de esta lista (0,5 ptos)"
   ]
  },
  {
   "cell_type": "code",
   "execution_count": 33,
   "id": "a7cbba3a",
   "metadata": {},
   "outputs": [],
   "source": [
    "listaDuplicada = [1,2,2,33,4,4,11,22,3,3,2]"
   ]
  },
  {
   "cell_type": "code",
   "execution_count": 34,
   "id": "71da8284",
   "metadata": {},
   "outputs": [
    {
     "name": "stdout",
     "output_type": "stream",
     "text": [
      "{1, 2, 33, 4, 3, 11, 22}\n"
     ]
    }
   ],
   "source": [
    "listaDuplicada = [1, 2, 2, 33, 4, 4, 11, 22, 3, 3, 2]\n",
    "valoresUnicos = set(listaDuplicada)\n",
    "print(valoresUnicos)"
   ]
  },
  {
   "cell_type": "markdown",
   "id": "9b217cfc",
   "metadata": {},
   "source": [
    "#### 11.- Haz las siguientes comparaciones: (0,5 ptos)\n",
    "#### Dos mayor que tres\n",
    "#### Tres igual que 2\n",
    "#### La raíz cuadrada de cuatro no es igual a 2\n",
    "#### Se cumple si 6 es mayor que 5 y 7 menor de 8\n",
    "#### Se cumple si la longitud de _nombre_ es  igual que el número de elementos de _colores_ o si la longitud de _nombre_ es menor de 7."
   ]
  },
  {
   "cell_type": "code",
   "execution_count": 184,
   "id": "59b70e21",
   "metadata": {},
   "outputs": [
    {
     "data": {
      "text/plain": [
       "False"
      ]
     },
     "execution_count": 184,
     "metadata": {},
     "output_type": "execute_result"
    }
   ],
   "source": [
    "# 2 mayor que 3\n",
    "2>3"
   ]
  },
  {
   "cell_type": "code",
   "execution_count": 186,
   "id": "89985eaf",
   "metadata": {},
   "outputs": [
    {
     "data": {
      "text/plain": [
       "False"
      ]
     },
     "execution_count": 186,
     "metadata": {},
     "output_type": "execute_result"
    }
   ],
   "source": [
    "# 3 igual que 2\n",
    "3==2"
   ]
  },
  {
   "cell_type": "code",
   "execution_count": 187,
   "id": "16c4febf",
   "metadata": {},
   "outputs": [
    {
     "data": {
      "text/plain": [
       "False"
      ]
     },
     "execution_count": 187,
     "metadata": {},
     "output_type": "execute_result"
    }
   ],
   "source": [
    "# raíz cuadrada de 4 no es igual a 2\n",
    "4**0.5 != 2"
   ]
  },
  {
   "cell_type": "code",
   "execution_count": 194,
   "id": "63eff6fd-9785-4877-b33e-197d32b2e774",
   "metadata": {},
   "outputs": [
    {
     "data": {
      "text/plain": [
       "True"
      ]
     },
     "execution_count": 194,
     "metadata": {},
     "output_type": "execute_result"
    }
   ],
   "source": [
    "6 > 5 and 7 < 8"
   ]
  },
  {
   "cell_type": "code",
   "execution_count": 36,
   "id": "e5ed7361-8611-4c1f-bebe-4f4247800baa",
   "metadata": {},
   "outputs": [],
   "source": [
    "nombre = \"Pepito\"\n",
    "colores = [\"azul\",\"rojo\",\"verde\",\"lila\",\"amarillo limón\"]"
   ]
  },
  {
   "cell_type": "code",
   "execution_count": 37,
   "id": "6f910f73-08d4-42f1-b6e4-ff85571f7cdf",
   "metadata": {},
   "outputs": [
    {
     "data": {
      "text/plain": [
       "True"
      ]
     },
     "execution_count": 37,
     "metadata": {},
     "output_type": "execute_result"
    }
   ],
   "source": [
    "len(nombre) == len(colores) or len(nombre) < 7"
   ]
  },
  {
   "cell_type": "markdown",
   "id": "bc1471d1-0d87-4c9d-8a0f-e2d735f2c764",
   "metadata": {},
   "source": [
    "#### 12.- Crea un archivo mediante código que se llame _tabla-nombres.txt_ y que esté formado por 4 columnas y 4 filas con la siguiente formación (1,5 ptos):\n",
    "#### Primera columna: Nombre\n",
    "#### Segunda columna: Apellidos (2 apellidos)\n",
    "#### Tercera columna: Edad\n",
    "#### Cuarta columna: Mascotas (nombre de la mascota si tienen)\n",
    "\n",
    "#### ¿Qué pasa si abres el archivo desde Jupyter y has metido acentos? ¿Puedes solucionarlo?"
   ]
  },
  {
   "cell_type": "code",
   "execution_count": 38,
   "id": "1ce5ecc5-05c2-41ee-8080-6270258a1d88",
   "metadata": {},
   "outputs": [],
   "source": [
    "mi_archivo=open(\"tabla-nombres.txt\",\"a+\",encoding= \"utf-8\")"
   ]
  },
  {
   "cell_type": "code",
   "execution_count": 39,
   "id": "06ea1317-a189-49fe-95e3-abe1822a1dde",
   "metadata": {},
   "outputs": [
    {
     "data": {
      "text/plain": [
       "32"
      ]
     },
     "execution_count": 39,
     "metadata": {},
     "output_type": "execute_result"
    }
   ],
   "source": [
    "mi_archivo.write(\"Nombre\\tApellidos\\tEdad\\tMascotas\\n\")\n",
    "mi_archivo.write(\"Patricia\\tMoronRidao\\t21\\tMia\\n\")\n",
    "mi_archivo.write(\"Marta\\tMateosLopez\\t21\\tNo\\n\")\n",
    "mi_archivo.write(\"Carmen\\tRequenaBellido\\t20\\tSultan\\n\")"
   ]
  },
  {
   "cell_type": "code",
   "execution_count": null,
   "id": "ca9ff891-6302-47f6-98e4-96fc13d886b8",
   "metadata": {},
   "outputs": [],
   "source": []
  },
  {
   "cell_type": "markdown",
   "id": "acfdde50-7f35-499e-b8dc-f8246dfaefb3",
   "metadata": {},
   "source": [
    "#### 13.- Crea un diccionario que contenga las siguientes parejas. Obtén el listado de keys() y guárdalo en una lista. Añade un par de elementos más y después convierte esa lista en un set (1 pto).\n",
    "\n",
    "#### Rattus = novergicus, rattus\n",
    "#### Glaucidium = brasilianum, hoskinsii, californicum, minutissimum\n",
    "#### Echinocactus = grusonii\n",
    "#### Opuntia = 1\n"
   ]
  },
  {
   "cell_type": "code",
   "execution_count": 40,
   "id": "c92024a1-08cf-4ca9-9d8e-40402909e024",
   "metadata": {},
   "outputs": [
    {
     "data": {
      "text/plain": [
       "{'Rattus': ['novergicus', 'rattus'],\n",
       " 'Glaucidium': ['brasilianum', 'hoskinsii', 'californicum'],\n",
       " 'Echinocactus': ['grusonii'],\n",
       " 'Opuntia': [1]}"
      ]
     },
     "execution_count": 40,
     "metadata": {},
     "output_type": "execute_result"
    }
   ],
   "source": [
    "mi_dict3 = {\"Rattus\":[\"novergicus\",\"rattus\"],\"Glaucidium\":[\"brasilianum\",\"hoskinsii\",\"californicum\"],\"Echinocactus\":[\"grusonii\"],\"Opuntia\":[1]}\n",
    "mi_dict3"
   ]
  },
  {
   "cell_type": "code",
   "execution_count": 51,
   "id": "aaea85a0-09ea-4887-a14f-e2d7526c4dc7",
   "metadata": {},
   "outputs": [
    {
     "data": {
      "text/plain": [
       "['Rattus', 'Glaucidium', 'Echinocactus', 'Opuntia']"
      ]
     },
     "execution_count": 51,
     "metadata": {},
     "output_type": "execute_result"
    }
   ],
   "source": [
    "list(mi_dict3.keys())"
   ]
  },
  {
   "cell_type": "markdown",
   "id": "357ad9b0-bc22-4d0f-9d88-8800d2d8ba67",
   "metadata": {},
   "source": []
  },
  {
   "cell_type": "code",
   "execution_count": 52,
   "id": "3da889fc-e859-4637-8271-7f4beb3cad08",
   "metadata": {},
   "outputs": [],
   "source": [
    "lista_ids = list(mi_dict3.keys())"
   ]
  },
  {
   "cell_type": "code",
   "execution_count": 53,
   "id": "881d662a-8907-4034-922a-fb47ba6b6d9d",
   "metadata": {},
   "outputs": [
    {
     "data": {
      "text/plain": [
       "['Rattus', 'Glaucidium', 'Echinocactus', 'Opuntia']"
      ]
     },
     "execution_count": 53,
     "metadata": {},
     "output_type": "execute_result"
    }
   ],
   "source": [
    "lista_ids"
   ]
  },
  {
   "cell_type": "code",
   "execution_count": 55,
   "id": "90e6a6f9-225b-494f-ab07-00a9b82c80ba",
   "metadata": {},
   "outputs": [],
   "source": [
    "lista_ids += [\"Calopteryx\", \"Apus\"]\n",
    "#.append()"
   ]
  },
  {
   "cell_type": "code",
   "execution_count": 56,
   "id": "54f0a7c7-dd47-4727-9f07-ec834ddaade9",
   "metadata": {},
   "outputs": [
    {
     "data": {
      "text/plain": [
       "{'Rattus': ['novergicus', 'rattus'],\n",
       " 'Glaucidium': ['brasilianum', 'hoskinsii', 'californicum'],\n",
       " 'Echinocactus': ['grusonii'],\n",
       " 'Opuntia': [1]}"
      ]
     },
     "execution_count": 56,
     "metadata": {},
     "output_type": "execute_result"
    }
   ],
   "source": [
    "mi_dict3"
   ]
  },
  {
   "cell_type": "code",
   "execution_count": null,
   "id": "6a5e9ba5-5f94-4167-bbaf-d7c66814a84b",
   "metadata": {},
   "outputs": [],
   "source": []
  }
 ],
 "metadata": {
  "kernelspec": {
   "display_name": "Python 3 (ipykernel)",
   "language": "python",
   "name": "python3"
  },
  "language_info": {
   "codemirror_mode": {
    "name": "ipython",
    "version": 3
   },
   "file_extension": ".py",
   "mimetype": "text/x-python",
   "name": "python",
   "nbconvert_exporter": "python",
   "pygments_lexer": "ipython3",
   "version": "3.13.5"
  }
 },
 "nbformat": 4,
 "nbformat_minor": 5
}
